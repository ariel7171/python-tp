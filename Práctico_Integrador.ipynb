{
  "nbformat": 4,
  "nbformat_minor": 0,
  "metadata": {
    "colab": {
      "provenance": []
    },
    "kernelspec": {
      "name": "python3",
      "display_name": "Python 3"
    },
    "language_info": {
      "name": "python"
    }
  },
  "cells": [
    {
      "cell_type": "code",
      "execution_count": 1,
      "metadata": {
        "colab": {
          "base_uri": "https://localhost:8080/"
        },
        "id": "JlLM9IB2gnZE",
        "outputId": "1bf9391e-9c3f-40c8-c702-12c2d9e7dafb"
      },
      "outputs": [
        {
          "output_type": "stream",
          "name": "stdout",
          "text": [
            "Drive already mounted at /content/drive; to attempt to forcibly remount, call drive.mount(\"/content/drive\", force_remount=True).\n",
            "Primeras filas del dataset:\n",
            "   Pregnancies  Glucose  BloodPressure  SkinThickness  Insulin   BMI  \\\n",
            "0            6      148             72             35        0  33.6   \n",
            "1            1       85             66             29        0  26.6   \n",
            "2            8      183             64              0        0  23.3   \n",
            "3            1       89             66             23       94  28.1   \n",
            "4            0      137             40             35      168  43.1   \n",
            "\n",
            "   DiabetesPedigreeFunction  Age  Outcome  \n",
            "0                     0.627   50        1  \n",
            "1                     0.351   31        0  \n",
            "2                     0.672   32        1  \n",
            "3                     0.167   21        0  \n",
            "4                     2.288   33        1  \n",
            "\n",
            "Información del dataset:\n",
            "<class 'pandas.core.frame.DataFrame'>\n",
            "RangeIndex: 768 entries, 0 to 767\n",
            "Data columns (total 9 columns):\n",
            " #   Column                    Non-Null Count  Dtype  \n",
            "---  ------                    --------------  -----  \n",
            " 0   Pregnancies               768 non-null    int64  \n",
            " 1   Glucose                   768 non-null    int64  \n",
            " 2   BloodPressure             768 non-null    int64  \n",
            " 3   SkinThickness             768 non-null    int64  \n",
            " 4   Insulin                   768 non-null    int64  \n",
            " 5   BMI                       768 non-null    float64\n",
            " 6   DiabetesPedigreeFunction  768 non-null    float64\n",
            " 7   Age                       768 non-null    int64  \n",
            " 8   Outcome                   768 non-null    int64  \n",
            "dtypes: float64(2), int64(7)\n",
            "memory usage: 54.1 KB\n",
            "None\n",
            "\n",
            "Estadísticas descriptivas:\n",
            "       Pregnancies     Glucose  BloodPressure  SkinThickness     Insulin  \\\n",
            "count   768.000000  768.000000     768.000000     768.000000  768.000000   \n",
            "mean      3.845052  120.894531      69.105469      20.536458   79.799479   \n",
            "std       3.369578   31.972618      19.355807      15.952218  115.244002   \n",
            "min       0.000000    0.000000       0.000000       0.000000    0.000000   \n",
            "25%       1.000000   99.000000      62.000000       0.000000    0.000000   \n",
            "50%       3.000000  117.000000      72.000000      23.000000   30.500000   \n",
            "75%       6.000000  140.250000      80.000000      32.000000  127.250000   \n",
            "max      17.000000  199.000000     122.000000      99.000000  846.000000   \n",
            "\n",
            "              BMI  DiabetesPedigreeFunction         Age     Outcome  \n",
            "count  768.000000                768.000000  768.000000  768.000000  \n",
            "mean    31.992578                  0.471876   33.240885    0.348958  \n",
            "std      7.884160                  0.331329   11.760232    0.476951  \n",
            "min      0.000000                  0.078000   21.000000    0.000000  \n",
            "25%     27.300000                  0.243750   24.000000    0.000000  \n",
            "50%     32.000000                  0.372500   29.000000    0.000000  \n",
            "75%     36.600000                  0.626250   41.000000    1.000000  \n",
            "max     67.100000                  2.420000   81.000000    1.000000  \n",
            "\n",
            "Valores faltantes por columna:\n",
            "Pregnancies                 0\n",
            "Glucose                     0\n",
            "BloodPressure               0\n",
            "SkinThickness               0\n",
            "Insulin                     0\n",
            "BMI                         0\n",
            "DiabetesPedigreeFunction    0\n",
            "Age                         0\n",
            "Outcome                     0\n",
            "dtype: int64\n"
          ]
        }
      ],
      "source": [
        "# Práctico Integrador – Predicción de Diabetes con Machine Learning\n",
        "# Importar librerías\n",
        "\n",
        "# Importar librerías\n",
        "import pandas as pd\n",
        "import numpy as np\n",
        "import matplotlib.pyplot as plt\n",
        "import seaborn as sns\n",
        "from sklearn.model_selection import train_test_split\n",
        "from sklearn.preprocessing import StandardScaler\n",
        "from sklearn.linear_model import LogisticRegression\n",
        "from sklearn.tree import DecisionTreeClassifier\n",
        "from sklearn.ensemble import RandomForestClassifier\n",
        "from sklearn.metrics import accuracy_score, confusion_matrix, classification_report\n",
        "import joblib\n",
        "\n",
        "# %%\n",
        "# Montar Google Drive\n",
        "from google.colab import drive\n",
        "drive.mount('/content/drive')\n",
        "\n",
        "# %%\n",
        "# Cargar dataset\n",
        "ruta = '/content/drive/MyDrive/datasets/diabetes.csv'  # Ajustar según tu estructura de carpetas\n",
        "df = pd.read_csv(ruta)\n",
        "\n",
        "# %%\n",
        "# Exploración inicial\n",
        "print(\"Primeras filas del dataset:\")\n",
        "print(df.head())\n",
        "\n",
        "print(\"\\nInformación del dataset:\")\n",
        "print(df.info())\n",
        "\n",
        "print(\"\\nEstadísticas descriptivas:\")\n",
        "print(df.describe())\n",
        "\n",
        "# %%\n",
        "# Verificar valores faltantes\n",
        "print(\"\\nValores faltantes por columna:\")\n",
        "print(df.isnull().sum())"
      ]
    },
    {
      "cell_type": "code",
      "source": [
        "# ## 2. Preprocesamiento\n",
        "\n",
        "# %%\n",
        "# Reemplazar ceros por valores nulos en columnas donde no deberían existir\n",
        "columnas_con_ceros = ['Glucose', 'BloodPressure', 'SkinThickness', 'Insulin', 'BMI']\n",
        "df[columnas_con_ceros] = df[columnas_con_ceros].replace(0, np.nan)\n",
        "\n",
        "# %%\n",
        "# Reemplazar valores nulos por la mediana\n",
        "for col in columnas_con_ceros:\n",
        "    mediana = df[col].median()\n",
        "    df[col].fillna(mediana, inplace=True)\n",
        "\n",
        "# %%\n",
        "# Verificar que no quedan valores nulos\n",
        "print(\"Valores nulos después del tratamiento:\")\n",
        "print(df.isnull().sum())\n",
        "\n",
        "# %%\n",
        "# Separar características y variable objetivo\n",
        "X = df.drop('Outcome', axis=1)\n",
        "y = df['Outcome']\n",
        "\n",
        "# %%\n",
        "# Normalizar los datos\n",
        "scaler = StandardScaler()\n",
        "X_norm = scaler.fit_transform(X)\n",
        "\n",
        "# %%\n",
        "# Dividir en conjuntos de entrenamiento y prueba\n",
        "X_train, X_test, y_train, y_test = train_test_split(\n",
        "    X_norm, y, test_size=0.2, random_state=42\n",
        ")\n",
        "\n",
        "print(f\"Tamaño del conjunto de entrenamiento: {X_train.shape}\")\n",
        "print(f\"Tamaño del conjunto de prueba: {X_test.shape}\")"
      ],
      "metadata": {
        "colab": {
          "base_uri": "https://localhost:8080/"
        },
        "id": "t9LJggQvN4ze",
        "outputId": "c696e5c8-ee39-489c-9c99-8f7b6e990b75"
      },
      "execution_count": 2,
      "outputs": [
        {
          "output_type": "stream",
          "name": "stdout",
          "text": [
            "Valores nulos después del tratamiento:\n",
            "Pregnancies                 0\n",
            "Glucose                     0\n",
            "BloodPressure               0\n",
            "SkinThickness               0\n",
            "Insulin                     0\n",
            "BMI                         0\n",
            "DiabetesPedigreeFunction    0\n",
            "Age                         0\n",
            "Outcome                     0\n",
            "dtype: int64\n",
            "Tamaño del conjunto de entrenamiento: (614, 8)\n",
            "Tamaño del conjunto de prueba: (154, 8)\n"
          ]
        },
        {
          "output_type": "stream",
          "name": "stderr",
          "text": [
            "/tmp/ipython-input-2-1005164641.py:12: FutureWarning: A value is trying to be set on a copy of a DataFrame or Series through chained assignment using an inplace method.\n",
            "The behavior will change in pandas 3.0. This inplace method will never work because the intermediate object on which we are setting values always behaves as a copy.\n",
            "\n",
            "For example, when doing 'df[col].method(value, inplace=True)', try using 'df.method({col: value}, inplace=True)' or df[col] = df[col].method(value) instead, to perform the operation inplace on the original object.\n",
            "\n",
            "\n",
            "  df[col].fillna(mediana, inplace=True)\n"
          ]
        }
      ]
    },
    {
      "cell_type": "code",
      "source": [
        "# ## 3. Entrenamiento de modelos\n",
        "\n",
        "# %%\n",
        "# Inicializar modelos\n",
        "modelos = {\n",
        "    'Regresión Logística': LogisticRegression(max_iter=1000, random_state=42),\n",
        "    'Árbol de Decisión': DecisionTreeClassifier(random_state=42),\n",
        "    'Bosque Aleatorio': RandomForestClassifier(random_state=42)\n",
        "}\n",
        "\n",
        "# %%\n",
        "# Entrenar y evaluar cada modelo\n",
        "resultados = {}\n",
        "\n",
        "for nombre, modelo in modelos.items():\n",
        "    # Entrenar\n",
        "    modelo.fit(X_train, y_train)\n",
        "\n",
        "    # Predecir\n",
        "    y_pred = modelo.predict(X_test)\n",
        "\n",
        "    # Calcular métricas\n",
        "    accuracy = accuracy_score(y_test, y_pred)\n",
        "    cm = confusion_matrix(y_test, y_pred)\n",
        "    reporte = classification_report(y_test, y_pred)\n",
        "\n",
        "    # Guardar resultados\n",
        "    resultados[nombre] = {\n",
        "        'modelo': modelo,\n",
        "        'accuracy': accuracy,\n",
        "        'confusion_matrix': cm,\n",
        "        'classification_report': reporte\n",
        "    }\n",
        "\n",
        "    print(f\"\\n--- {nombre} ---\")\n",
        "    print(f\"Accuracy: {accuracy:.4f}\")\n",
        "    print(f\"Matriz de confusión:\\n{cm}\")\n",
        "    print(f\"Reporte de clasificación:\\n{reporte}\")"
      ],
      "metadata": {
        "colab": {
          "base_uri": "https://localhost:8080/"
        },
        "id": "lsngQKdsPYZi",
        "outputId": "149722a8-7e79-4e3a-c4ec-cedda7039ae2"
      },
      "execution_count": 3,
      "outputs": [
        {
          "output_type": "stream",
          "name": "stdout",
          "text": [
            "\n",
            "--- Regresión Logística ---\n",
            "Accuracy: 0.7532\n",
            "Matriz de confusión:\n",
            "[[82 17]\n",
            " [21 34]]\n",
            "Reporte de clasificación:\n",
            "              precision    recall  f1-score   support\n",
            "\n",
            "           0       0.80      0.83      0.81        99\n",
            "           1       0.67      0.62      0.64        55\n",
            "\n",
            "    accuracy                           0.75       154\n",
            "   macro avg       0.73      0.72      0.73       154\n",
            "weighted avg       0.75      0.75      0.75       154\n",
            "\n",
            "\n",
            "--- Árbol de Decisión ---\n",
            "Accuracy: 0.7143\n",
            "Matriz de confusión:\n",
            "[[76 23]\n",
            " [21 34]]\n",
            "Reporte de clasificación:\n",
            "              precision    recall  f1-score   support\n",
            "\n",
            "           0       0.78      0.77      0.78        99\n",
            "           1       0.60      0.62      0.61        55\n",
            "\n",
            "    accuracy                           0.71       154\n",
            "   macro avg       0.69      0.69      0.69       154\n",
            "weighted avg       0.72      0.71      0.72       154\n",
            "\n",
            "\n",
            "--- Bosque Aleatorio ---\n",
            "Accuracy: 0.7403\n",
            "Matriz de confusión:\n",
            "[[78 21]\n",
            " [19 36]]\n",
            "Reporte de clasificación:\n",
            "              precision    recall  f1-score   support\n",
            "\n",
            "           0       0.80      0.79      0.80        99\n",
            "           1       0.63      0.65      0.64        55\n",
            "\n",
            "    accuracy                           0.74       154\n",
            "   macro avg       0.72      0.72      0.72       154\n",
            "weighted avg       0.74      0.74      0.74       154\n",
            "\n"
          ]
        }
      ]
    },
    {
      "cell_type": "code",
      "source": [
        "# ## 4. Evaluación y comparación\n",
        "\n",
        "# %%\n",
        "# Comparar accuracy de los modelos\n",
        "print(\"\\nComparación de modelos:\")\n",
        "for nombre, res in resultados.items():\n",
        "    print(f\"{nombre}: Accuracy = {res['accuracy']:.4f}\")\n",
        "\n",
        "# %%\n",
        "# Identificar el mejor modelo\n",
        "mejor_modelo_nombre = max(resultados, key=lambda x: resultados[x]['accuracy'])\n",
        "mejor_modelo = resultados[mejor_modelo_nombre]['modelo']\n",
        "\n",
        "print(f\"\\nEl mejor modelo es: {mejor_modelo_nombre} con accuracy = {resultados[mejor_modelo_nombre]['accuracy']:.4f}\")\n",
        "\n",
        "# ## 5. Exportación del modelo\n",
        "\n",
        "# %%\n",
        "# Guardar el mejor modelo\n",
        "joblib.dump(mejor_modelo, 'mejor_modelo_diabetes.pkl')\n",
        "\n",
        "# Guardar el escalador (importante para nuevos datos)\n",
        "joblib.dump(scaler, 'escalador_diabetes.pkl')\n",
        "\n",
        "# Descargar los archivos\n",
        "from google.colab import files\n",
        "files.download('mejor_modelo_diabetes.pkl')\n",
        "files.download('escalador_diabetes.pkl')\n",
        "\n",
        "print(\"Modelo y escalador exportados exitosamente\")"
      ],
      "metadata": {
        "colab": {
          "base_uri": "https://localhost:8080/",
          "height": 161
        },
        "id": "-20AmJENPig7",
        "outputId": "dd238468-04fe-4b17-966a-35799fb5c16a"
      },
      "execution_count": 4,
      "outputs": [
        {
          "output_type": "stream",
          "name": "stdout",
          "text": [
            "\n",
            "Comparación de modelos:\n",
            "Regresión Logística: Accuracy = 0.7532\n",
            "Árbol de Decisión: Accuracy = 0.7143\n",
            "Bosque Aleatorio: Accuracy = 0.7403\n",
            "\n",
            "El mejor modelo es: Regresión Logística con accuracy = 0.7532\n"
          ]
        },
        {
          "output_type": "display_data",
          "data": {
            "text/plain": [
              "<IPython.core.display.Javascript object>"
            ],
            "application/javascript": [
              "\n",
              "    async function download(id, filename, size) {\n",
              "      if (!google.colab.kernel.accessAllowed) {\n",
              "        return;\n",
              "      }\n",
              "      const div = document.createElement('div');\n",
              "      const label = document.createElement('label');\n",
              "      label.textContent = `Downloading \"${filename}\": `;\n",
              "      div.appendChild(label);\n",
              "      const progress = document.createElement('progress');\n",
              "      progress.max = size;\n",
              "      div.appendChild(progress);\n",
              "      document.body.appendChild(div);\n",
              "\n",
              "      const buffers = [];\n",
              "      let downloaded = 0;\n",
              "\n",
              "      const channel = await google.colab.kernel.comms.open(id);\n",
              "      // Send a message to notify the kernel that we're ready.\n",
              "      channel.send({})\n",
              "\n",
              "      for await (const message of channel.messages) {\n",
              "        // Send a message to notify the kernel that we're ready.\n",
              "        channel.send({})\n",
              "        if (message.buffers) {\n",
              "          for (const buffer of message.buffers) {\n",
              "            buffers.push(buffer);\n",
              "            downloaded += buffer.byteLength;\n",
              "            progress.value = downloaded;\n",
              "          }\n",
              "        }\n",
              "      }\n",
              "      const blob = new Blob(buffers, {type: 'application/binary'});\n",
              "      const a = document.createElement('a');\n",
              "      a.href = window.URL.createObjectURL(blob);\n",
              "      a.download = filename;\n",
              "      div.appendChild(a);\n",
              "      a.click();\n",
              "      div.remove();\n",
              "    }\n",
              "  "
            ]
          },
          "metadata": {}
        },
        {
          "output_type": "display_data",
          "data": {
            "text/plain": [
              "<IPython.core.display.Javascript object>"
            ],
            "application/javascript": [
              "download(\"download_26bc68a3-bcfd-452a-9406-fb6ca3e7129c\", \"mejor_modelo_diabetes.pkl\", 927)"
            ]
          },
          "metadata": {}
        },
        {
          "output_type": "display_data",
          "data": {
            "text/plain": [
              "<IPython.core.display.Javascript object>"
            ],
            "application/javascript": [
              "\n",
              "    async function download(id, filename, size) {\n",
              "      if (!google.colab.kernel.accessAllowed) {\n",
              "        return;\n",
              "      }\n",
              "      const div = document.createElement('div');\n",
              "      const label = document.createElement('label');\n",
              "      label.textContent = `Downloading \"${filename}\": `;\n",
              "      div.appendChild(label);\n",
              "      const progress = document.createElement('progress');\n",
              "      progress.max = size;\n",
              "      div.appendChild(progress);\n",
              "      document.body.appendChild(div);\n",
              "\n",
              "      const buffers = [];\n",
              "      let downloaded = 0;\n",
              "\n",
              "      const channel = await google.colab.kernel.comms.open(id);\n",
              "      // Send a message to notify the kernel that we're ready.\n",
              "      channel.send({})\n",
              "\n",
              "      for await (const message of channel.messages) {\n",
              "        // Send a message to notify the kernel that we're ready.\n",
              "        channel.send({})\n",
              "        if (message.buffers) {\n",
              "          for (const buffer of message.buffers) {\n",
              "            buffers.push(buffer);\n",
              "            downloaded += buffer.byteLength;\n",
              "            progress.value = downloaded;\n",
              "          }\n",
              "        }\n",
              "      }\n",
              "      const blob = new Blob(buffers, {type: 'application/binary'});\n",
              "      const a = document.createElement('a');\n",
              "      a.href = window.URL.createObjectURL(blob);\n",
              "      a.download = filename;\n",
              "      div.appendChild(a);\n",
              "      a.click();\n",
              "      div.remove();\n",
              "    }\n",
              "  "
            ]
          },
          "metadata": {}
        },
        {
          "output_type": "display_data",
          "data": {
            "text/plain": [
              "<IPython.core.display.Javascript object>"
            ],
            "application/javascript": [
              "download(\"download_241870ad-0a18-47c8-a2e9-eb7bd0c6ac88\", \"escalador_diabetes.pkl\", 1159)"
            ]
          },
          "metadata": {}
        },
        {
          "output_type": "stream",
          "name": "stdout",
          "text": [
            "Modelo y escalador exportados exitosamente\n"
          ]
        }
      ]
    }
  ]
}